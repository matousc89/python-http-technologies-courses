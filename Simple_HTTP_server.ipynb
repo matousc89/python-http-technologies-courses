{
 "cells": [
  {
   "cell_type": "markdown",
   "metadata": {
    "deletable": true,
    "editable": true
   },
   "source": [
    "# Simple HTTP Server\n",
    "Here are examples with <a href=\"https://docs.python.org/3/library/http.server.html\">HTTPServer</a> in this tutorial.\n",
    "\n",
    "**Important note:** Some of the snippets (the ones with server instance) in this tutorial are not usable in jupyter notebook due to their nature. Becuase it is not possible to manipulate the object once you have used the `serve_forever()` function. Please the codeblocks in different environment (terminal, IDE).\n",
    "\n",
    "## The most simple example\n",
    "Really simple server can be construced as follows (running on localhost and port 8000)."
   ]
  },
  {
   "cell_type": "code",
   "execution_count": null,
   "metadata": {
    "collapsed": false,
    "deletable": true,
    "editable": true
   },
   "outputs": [],
   "source": [
    "import SimpleHTTPServer\n",
    "import SocketServer\n",
    "     \n",
    "PORT = 8000\n",
    "ADDRESS = \"127.0.0.1\"\n",
    "\n",
    "Handler = SimpleHTTPServer.SimpleHTTPRequestHandler\n",
    "\n",
    "httpd = SocketServer.TCPServer((ADDRESS, PORT), Handler)\n",
    "\n",
    "print \"Serving at port\", PORT\n",
    "httpd.serve_forever()"
   ]
  },
  {
   "cell_type": "markdown",
   "metadata": {
    "deletable": true,
    "editable": true
   },
   "source": [
    "To test such a server you can open in your browser this page `http://127.0.0.1:8000/` or you can run following code (but not in this notebook!)."
   ]
  },
  {
   "cell_type": "code",
   "execution_count": null,
   "metadata": {
    "collapsed": false,
    "deletable": true,
    "editable": true
   },
   "outputs": [],
   "source": [
    "import requests\n",
    "\n",
    "r = requests.get(\"http://127.0.0.1:8000/\")\n",
    "\n",
    "print(r.status_code)\n",
    "print(r.text)"
   ]
  },
  {
   "cell_type": "markdown",
   "metadata": {
    "deletable": true,
    "editable": true
   },
   "source": [
    "If you want make your server accesible from other computers, change the `Address` for your IP address. You can find your IP address for example <a href=\"http://whatismyipaddress.com/\">here</a>."
   ]
  },
  {
   "cell_type": "markdown",
   "metadata": {
    "deletable": true,
    "editable": true
   },
   "source": [
    "## More usable example\n",
    "In this example is shown custom handler. The handler reponds to some urls ('/', '/help') with status 200. For any other url the server returns status 404 - page not found."
   ]
  },
  {
   "cell_type": "code",
   "execution_count": null,
   "metadata": {
    "collapsed": false,
    "deletable": true,
    "editable": true
   },
   "outputs": [],
   "source": [
    "import SimpleHTTPServer\n",
    "import SocketServer\n",
    "     \n",
    "class MyRequestHandler(SimpleHTTPServer.SimpleHTTPRequestHandler):\n",
    "    \n",
    "    def do_GET(self):\n",
    "        \"\"\"Respond to a GET request.\"\"\"\n",
    "        if self.path == \"/\":\n",
    "            self.send_response(200)\n",
    "            self.send_header(\"Content-type\", \"text/html\")\n",
    "            self.end_headers()\n",
    "            message = \"This is the main page.\"\n",
    "        elif self.path in [\"/help/\", \"/help\"]:\n",
    "            self.send_response(200)\n",
    "            self.send_header(\"Content-type\", \"text/html\")\n",
    "            self.end_headers()\n",
    "            message = \"This is page with help.\"\n",
    "        else:\n",
    "            self.send_response(404)\n",
    "            self.send_header(\"Content-type\", \"text/html\")\n",
    "            self.end_headers()\n",
    "            message = \"Page not found. See /help/ for help.\"\n",
    "        # write message\n",
    "        self.wfile.write(message) \n",
    "     \n",
    "PORT = 8000\n",
    "ADDRESS = \"127.0.0.1\"\n",
    "\n",
    "httpd = SocketServer.TCPServer((ADDRESS, PORT), MyRequestHandler)\n",
    "\n",
    "print \"Serving at port\", PORT\n",
    "httpd.serve_forever()"
   ]
  },
  {
   "cell_type": "markdown",
   "metadata": {
    "collapsed": true,
    "deletable": true,
    "editable": true
   },
   "source": [
    "## POST parameters handling\n",
    "Example with custom POST handler follows. This server accept any url and process the POST request parameters. If you access this server with browser you will get simple HTML form that you can use to test POST request."
   ]
  },
  {
   "cell_type": "code",
   "execution_count": null,
   "metadata": {
    "collapsed": true,
    "deletable": true,
    "editable": true
   },
   "outputs": [],
   "source": [
    "import SimpleHTTPServer\n",
    "import SocketServer\n",
    "import cgi\n",
    "import urlparse\n",
    "\n",
    "class MyRequestHandler(SimpleHTTPServer.SimpleHTTPRequestHandler):\n",
    "        \n",
    "    def do_POST(self):\n",
    "        # get params from request\n",
    "        if \"?\" in self.path:\n",
    "            # get params sent in url\n",
    "            qs = self.path.split(\"?\")[1]\n",
    "            query_dict = dict(urlparse.parse_qsl(qs))\n",
    "        else:  \n",
    "            # get params send as data\n",
    "            form = cgi.FieldStorage(\n",
    "                fp=self.rfile, \n",
    "                headers=self.headers,\n",
    "                environ={'REQUEST_METHOD':'POST',\n",
    "                         'CONTENT_TYPE':self.headers['Content-Type'],\n",
    "                })\n",
    "            query_dict = {key: form.getvalue(key) for key in form.keys()}\n",
    "        # prepare response\n",
    "        self.send_response(200)\n",
    "        self.send_header(\"Content-type\", \"text/html\")\n",
    "        self.end_headers()\n",
    "        self.wfile.write(\"Parameters sent:\"+str(query_dict))  \n",
    "    \n",
    "    def do_GET(self):\n",
    "        \"\"\"Respond to a GET request.\"\"\"\n",
    "        self.send_response(200)\n",
    "        self.send_header(\"Content-type\", \"text/html\")\n",
    "        self.end_headers()\n",
    "        html_form = \"\"\"\n",
    "        <form method=\"post\" action=\"/\">\n",
    "          <input type=\"text\" name=\"a\" value=\"1\"><br>\n",
    "          <input type=\"submit\" value=\"Send\">\n",
    "        </form>\n",
    "        \"\"\"\n",
    "        self.wfile.write(html_form)\n",
    "     \n",
    "PORT = 8000\n",
    "ADDRESS = \"127.0.0.1\"\n",
    "\n",
    "Handler = MyRequestHandler\n",
    "\n",
    "httpd = SocketServer.TCPServer((ADDRESS, PORT), Handler)\n",
    "\n",
    "print \"Serving at port\", PORT\n",
    "httpd.serve_forever()"
   ]
  },
  {
   "cell_type": "markdown",
   "metadata": {
    "deletable": true,
    "editable": true
   },
   "source": [
    "Example how to test the server with python Requests follows."
   ]
  },
  {
   "cell_type": "code",
   "execution_count": null,
   "metadata": {
    "collapsed": true,
    "deletable": true,
    "editable": true
   },
   "outputs": [],
   "source": [
    "import requests\n",
    "\n",
    "parameters = {\n",
    "    \"a\": 2,\n",
    "    \"b\": 3,\n",
    "    \"c\": 4, \n",
    "}\n",
    "\n",
    "r = requests.post(\"http://127.0.0.1:8000/\", params=parameters)\n",
    "\n",
    "print r.status_code, r.text"
   ]
  }
 ],
 "metadata": {
  "kernelspec": {
   "display_name": "Python 3",
   "language": "python",
   "name": "python3"
  },
  "language_info": {
   "codemirror_mode": {
    "name": "ipython",
    "version": 3
   },
   "file_extension": ".py",
   "mimetype": "text/x-python",
   "name": "python",
   "nbconvert_exporter": "python",
   "pygments_lexer": "ipython3",
   "version": "3.4.3"
  }
 },
 "nbformat": 4,
 "nbformat_minor": 1
}
