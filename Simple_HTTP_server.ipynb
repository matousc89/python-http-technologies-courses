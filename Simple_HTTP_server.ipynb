{
 "cells": [
  {
   "cell_type": "markdown",
   "metadata": {
    "deletable": true,
    "editable": true
   },
   "source": [
    "# Simple HTTP Server\n",
    "Here are examples with <a href=\"https://docs.python.org/3/library/http.server.html\">HTTPServer</a> in this tutorial.\n",
    "\n",
    "**Important note:** Some of the snippets (the ones with server instance) in this tutorial are not usable in jupyter notebook due to their nature. Becuase it is not possible to manipulate the object once you have used the `serve_forever()` function. Please the codeblocks in different environment (terminal, IDE).\n",
    "\n",
    "## The most simple example\n",
    "Really simple server can be construced as follows (running on localhost and port 8000)."
   ]
  },
  {
   "cell_type": "code",
   "execution_count": null,
   "metadata": {
    "collapsed": false,
    "deletable": true,
    "editable": true
   },
   "outputs": [],
   "source": [
    "from http.server import BaseHTTPRequestHandler, HTTPServer\n",
    "\n",
    "PORT = 8000\n",
    "ADDRESS = \"127.0.0.1\"\n",
    " \n",
    "httpd = HTTPServer((ADDRESS, PORT), BaseHTTPRequestHandler)\n",
    "print('running server...')\n",
    "httpd.serve_forever()"
   ]
  },
  {
   "cell_type": "markdown",
   "metadata": {
    "deletable": true,
    "editable": true
   },
   "source": [
    "To test such a server you can open in your browser this page `http://127.0.0.1:8000/` or you can run following code (but not in this notebook!)."
   ]
  },
  {
   "cell_type": "code",
   "execution_count": null,
   "metadata": {
    "collapsed": false,
    "deletable": true,
    "editable": true
   },
   "outputs": [],
   "source": [
    "import requests\n",
    "\n",
    "r = requests.get(\"http://127.0.0.1:8000/\")\n",
    "\n",
    "print(r.status_code)\n",
    "print(r.text)"
   ]
  },
  {
   "cell_type": "markdown",
   "metadata": {
    "deletable": true,
    "editable": true
   },
   "source": [
    "If you want make your server accesible from other computers, change the `Address` for your IP address. You can find your IP address for example <a href=\"http://whatismyipaddress.com/\">here</a>."
   ]
  },
  {
   "cell_type": "markdown",
   "metadata": {
    "deletable": true,
    "editable": true
   },
   "source": [
    "## More usable example\n",
    "In this example is shown custom handler. The handler reponds to some urls ('/', '/help') with status 200. For any other url the server returns status 404 - page not found."
   ]
  },
  {
   "cell_type": "code",
   "execution_count": null,
   "metadata": {
    "collapsed": false,
    "deletable": true,
    "editable": true
   },
   "outputs": [],
   "source": [
    "from http.server import BaseHTTPRequestHandler, HTTPServer\n",
    "\n",
    "class myHandler(BaseHTTPRequestHandler):\n",
    "    \n",
    "    def do_GET(s):\n",
    "        \"\"\"Respond to a GET request.\"\"\"\n",
    "        if s.path == \"/\":\n",
    "            s.send_response(200)\n",
    "            s.send_header(\"Content-type\", \"text/html\")\n",
    "            s.end_headers()\n",
    "            message = \"This is the main page.\"\n",
    "        elif s.path in [\"/help/\", \"/help\"]:\n",
    "            s.send_response(200)\n",
    "            s.send_header(\"Content-type\", \"text/html\")\n",
    "            s.end_headers()\n",
    "            message = \"This is page with help.\"\n",
    "        else:\n",
    "            s.send_response(404)\n",
    "            s.send_header(\"Content-type\", \"text/html\")\n",
    "            s.end_headers()\n",
    "            message = \"Page not found. See /help/ for help.\"\n",
    "        # write message\n",
    "        s.wfile.write(bytes(message, \"utf8\"))\n",
    "\n",
    "\n",
    "PORT = 8000\n",
    "ADDRESS = \"127.0.0.1\"\n",
    " \n",
    "httpd = HTTPServer((ADDRESS, PORT), myHandler)\n",
    "print('running server...')\n",
    "httpd.serve_forever()"
   ]
  },
  {
   "cell_type": "code",
   "execution_count": null,
   "metadata": {
    "collapsed": true
   },
   "outputs": [],
   "source": []
  }
 ],
 "metadata": {
  "kernelspec": {
   "display_name": "Python 3",
   "language": "python",
   "name": "python3"
  },
  "language_info": {
   "codemirror_mode": {
    "name": "ipython",
    "version": 3
   },
   "file_extension": ".py",
   "mimetype": "text/x-python",
   "name": "python",
   "nbconvert_exporter": "python",
   "pygments_lexer": "ipython3",
   "version": "3.4.3"
  }
 },
 "nbformat": 4,
 "nbformat_minor": 1
}
