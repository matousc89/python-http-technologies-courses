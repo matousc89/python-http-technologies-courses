{
 "cells": [
  {
   "cell_type": "markdown",
   "metadata": {
    "deletable": true,
    "editable": true
   },
   "source": [
    "# HTTP requests\n",
    "In this tutorial ti is covered how to make requests via HTTP protocol. \n",
    "For more informations about related stuff see:\n",
    "* <a href=\"https://en.wikipedia.org/wiki/Hypertext_Transfer_Protocol\">Hypertext Transfer Protocol (HTTP)</a>\n",
    "* <a href=\"https://en.wikipedia.org/wiki/JSON\">JavaScript Object Notation</a>\n",
    "* <a href=\"https://en.wikipedia.org/wiki/HTML\">HyperText Markup Language (HTML)</a>\n",
    "\n",
    "Keep in mind, that in this tutorial we work only with static content. How to obtain web dynamic content is not covered in this tutorial. If you want to deal with dynamic content, study <a href=\"http://selenium-python.readthedocs.io/\">Selenium Python Bindings</a>.\n",
    "\n",
    "## Get HTML page content\n",
    "In this section are examples how to get HTTP response with two different libraries:\n",
    "* <a href=\"https://docs.python.org/3.4/library/urllib.html?highlight=urllib\">urllib</a> (standard library in Python 3)\n",
    "* <a href=\"http://docs.python-requests.org/en/master/\">Requests</a> (instalable through pip)\n",
    "\n",
    "In this tutorial is mainly used the Requests library, as a prefered option.\n",
    "\n",
    "### Urlib2 library\n",
    "Example how to get static content of web page with Urlib2 follows:"
   ]
  },
  {
   "cell_type": "code",
   "execution_count": 1,
   "metadata": {
    "collapsed": false,
    "deletable": true,
    "editable": true
   },
   "outputs": [
    {
     "name": "stdout",
     "output_type": "stream",
     "text": [
      "Status code: 200\n"
     ]
    }
   ],
   "source": [
    "from urllib.request import urlopen\n",
    "\n",
    "r = urlopen('http://www.python.org/')\n",
    "data = r.read()\n",
    "\n",
    "print(\"Status code:\", r.getcode())"
   ]
  },
  {
   "cell_type": "markdown",
   "metadata": {
    "deletable": true,
    "editable": true
   },
   "source": [
    "The variable `data` contains returned HTML code (full page) as string. You can process it, save it, or do anything else you need.\n",
    "\n",
    "### Requests\n",
    "Example how to get static content of web page with Requests follows."
   ]
  },
  {
   "cell_type": "code",
   "execution_count": 2,
   "metadata": {
    "collapsed": false,
    "deletable": true,
    "editable": true
   },
   "outputs": [
    {
     "name": "stdout",
     "output_type": "stream",
     "text": [
      "Status code: 200\n"
     ]
    }
   ],
   "source": [
    "import requests\n",
    "\n",
    "r = requests.get(\"http://www.python.org/\")\n",
    "data = r.text\n",
    "\n",
    "print(\"Status code:\", r.status_code)"
   ]
  },
  {
   "cell_type": "markdown",
   "metadata": {
    "deletable": true,
    "editable": true
   },
   "source": [
    "## Get JSON data from an API\n",
    "This task is demonstrated on Open Notify - an open source project that provides a simple programming interface for some of NASA’s awesome data.\n",
    "\n",
    "The examples bellow cover how to obtain current possition of ISS. With Requests library it is possible to get the JSON from the API in the same way as HTML data."
   ]
  },
  {
   "cell_type": "code",
   "execution_count": 3,
   "metadata": {
    "collapsed": false,
    "deletable": true,
    "editable": true
   },
   "outputs": [
    {
     "name": "stdout",
     "output_type": "stream",
     "text": [
      "{'message': 'success', 'iss_position': {'longitude': '-48.4604', 'latitude': '-33.8884'}, 'timestamp': 1490553838}\n"
     ]
    }
   ],
   "source": [
    "import requests\n",
    "\n",
    "r = requests.get(\"http://api.open-notify.org/iss-now.json\")\n",
    "obj = r.json()\n",
    "\n",
    "print(obj)"
   ]
  },
  {
   "cell_type": "markdown",
   "metadata": {
    "deletable": true,
    "editable": true
   },
   "source": [
    "The Requests function `json()` convert the json response to Python dictionary. In next code block is demonstrated how to get data from obtained response.\n",
    "\n",
    "## Persistent session with Requests\n",
    "Session with Requests are handy for cases where you need to use same cookies (session cookies for example) or authentication for multiple requests."
   ]
  },
  {
   "cell_type": "code",
   "execution_count": 4,
   "metadata": {
    "collapsed": false,
    "deletable": true,
    "editable": true
   },
   "outputs": [
    {
     "name": "stdout",
     "output_type": "stream",
     "text": [
      "No cookies on start: \n",
      "{}\n",
      "\n",
      "A cookie from google: \n",
      "{'NID': '99=F_pIEFBnvtQc1poKGMdpGVl8H7ekYVJIEkYZ__apuE5nibL1j9AbqfYzdlLgwJEQ2FGpB1dBGVvqpbRGMWPjQ4AlFyKI3vt7adS2DwMeMMfraFXvGK4liLBvmr3DPhU2'}\n",
      "\n",
      "The cookie is perstent:\n",
      "{'NID': '99=F_pIEFBnvtQc1poKGMdpGVl8H7ekYVJIEkYZ__apuE5nibL1j9AbqfYzdlLgwJEQ2FGpB1dBGVvqpbRGMWPjQ4AlFyKI3vt7adS2DwMeMMfraFXvGK4liLBvmr3DPhU2'}\n"
     ]
    }
   ],
   "source": [
    "s = requests.Session()\n",
    "print(\"No cookies on start: \")\n",
    "print(dict(s.cookies))\n",
    "r = s.get('http://google.cz/')\n",
    "print(\"\\nA cookie from google: \")\n",
    "print(dict(s.cookies))\n",
    "r = s.get('http://google.cz/?q=cat')\n",
    "print(\"\\nThe cookie is perstent:\")\n",
    "print(dict(s.cookies))"
   ]
  },
  {
   "cell_type": "markdown",
   "metadata": {
    "deletable": true,
    "editable": true
   },
   "source": [
    "Compare the output of the code above, with the example bellow."
   ]
  },
  {
   "cell_type": "code",
   "execution_count": 5,
   "metadata": {
    "collapsed": false,
    "deletable": true,
    "editable": true
   },
   "outputs": [
    {
     "name": "stdout",
     "output_type": "stream",
     "text": [
      "\n",
      "A cookie from google: \n",
      "{'NID': '99=n0oJjmdKl8ZBirmaW2Nn0y-o6MN3ZQ9_ZRBgcvP_zxxUS0il3u2vHycFuUIvrpglyoxHKVG58GlaMy41ADWEoQ7hjAUQLroOpfYHU5ueWcpEfa_dOVgLz2uoXQYkQNzC'}\n",
      "\n",
      "Different cookie:\n",
      "{'NID': '99=euuRxzgwcRT8rBwxVdWlYJ5vhZP4k-Hww-pXCSfml5LYu3jb6IuaZQo-cUqe3sypuMO8TE81TPbDQ8Ehp6BEdmG-MwnDOeBS8NKmDSdnlXgXjWrM3nGQtfc2ves_uRVT'}\n"
     ]
    }
   ],
   "source": [
    "r = requests.get('http://google.cz/')\n",
    "print(\"\\nA cookie from google: \")\n",
    "print(dict(r.cookies))\n",
    "r = requests.get('http://google.cz/?q=cat')\n",
    "print(\"\\nDifferent cookie:\")\n",
    "print(dict(r.cookies))"
   ]
  },
  {
   "cell_type": "markdown",
   "metadata": {
    "deletable": true,
    "editable": true
   },
   "source": [
    "## Custom headers\n",
    "Headers of the response are easy to check, example follows."
   ]
  },
  {
   "cell_type": "code",
   "execution_count": 6,
   "metadata": {
    "collapsed": false,
    "deletable": true,
    "editable": true
   },
   "outputs": [
    {
     "name": "stdout",
     "output_type": "stream",
     "text": [
      "CaseInsensitiveDict({'x-cache-hits': '4', 'strict-transport-security': 'max-age=63072000; includeSubDomains', 'connection': 'keep-alive', 'x-frame-options': 'SAMEORIGIN', 'content-length': '47426', 'via': '1.1 varnish', 'x-clacks-overhead': 'GNU Terry Pratchett', 'server': 'nginx', 'age': '3119', 'date': 'Sun, 26 Mar 2017 18:43:59 GMT', 'vary': 'Cookie', 'public-key-pins': 'max-age=600; includeSubDomains; pin-sha256=\"WoiWRyIOVNa9ihaBciRSC7XHjliYS9VwUGOIud4PB18=\"; pin-sha256=\"5C8kvU039KouVrl52D0eZSGf4Onjo4Khs8tmyTlV3nU=\"; pin-sha256=\"5C8kvU039KouVrl52D0eZSGf4Onjo4Khs8tmyTlV3nU=\"; pin-sha256=\"lCppFqbkrlJ3EcVFAkeip0+44VaoJUymbnOaEUk7tEU=\"; pin-sha256=\"TUDnr0MEoJ3of7+YliBMBVFB4/gJsv5zO7IxD9+YoWI=\"; pin-sha256=\"x4QzPSC810K5/cMjb05Qm4k3Bw5zBn4lTdO/nEW/Td4=\";', 'x-cache': 'HIT', 'x-served-by': 'cache-ams4143-AMS', 'x-timer': 'S1490553839.466339,VS0,VE0', 'accept-ranges': 'bytes', 'content-type': 'text/html; charset=utf-8'})\n"
     ]
    }
   ],
   "source": [
    "r = requests.get(\"http://www.python.org/\")\n",
    "print(r.headers)"
   ]
  },
  {
   "cell_type": "markdown",
   "metadata": {
    "deletable": true,
    "editable": true
   },
   "source": [
    "The request headers can be modified in simple way as follows."
   ]
  },
  {
   "cell_type": "code",
   "execution_count": 7,
   "metadata": {
    "collapsed": false,
    "deletable": true,
    "editable": true
   },
   "outputs": [
    {
     "name": "stdout",
     "output_type": "stream",
     "text": [
      "200\n"
     ]
    }
   ],
   "source": [
    "headers = {\n",
    "    \"Accept\": \"text/plain\",\n",
    "}\n",
    "\n",
    "r = requests.get(\"http://www.python.org/\", headers=headers)\n",
    "print(r.status_code)"
   ]
  },
  {
   "cell_type": "markdown",
   "metadata": {
    "deletable": true,
    "editable": true
   },
   "source": [
    "More information about HTTP headers can be found at <a href=\"https://en.wikipedia.org/wiki/List_of_HTTP_header_fields\">List of HTTP header fields wikipedia page</a>."
   ]
  }
 ],
 "metadata": {
  "kernelspec": {
   "display_name": "Python 3",
   "language": "python",
   "name": "python3"
  },
  "language_info": {
   "codemirror_mode": {
    "name": "ipython",
    "version": 3
   },
   "file_extension": ".py",
   "mimetype": "text/x-python",
   "name": "python",
   "nbconvert_exporter": "python",
   "pygments_lexer": "ipython3",
   "version": "3.4.3"
  }
 },
 "nbformat": 4,
 "nbformat_minor": 1
}
