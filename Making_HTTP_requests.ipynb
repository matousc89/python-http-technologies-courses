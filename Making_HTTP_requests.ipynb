{
 "cells": [
  {
   "cell_type": "markdown",
   "metadata": {},
   "source": [
    "# HTTP requests\n",
    "In this tutorial ti is covered how to make requests via HTTP protocol. \n",
    "For more informations about related stuff see:\n",
    "* <a href=\"https://en.wikipedia.org/wiki/Hypertext_Transfer_Protocol\">Hypertext Transfer Protocol (HTTP)</a>\n",
    "* <a href=\"https://en.wikipedia.org/wiki/JSON\">JavaScript Object Notation</a>\n",
    "* <a href=\"https://en.wikipedia.org/wiki/HTML\">HyperText Markup Language (HTML)</a>\n",
    "\n",
    "Keep in mind, that in this tutorial we work only with static content. How to obtain web dynamic content is not covered in this tutorial. If you want to deal with dynamic content, study <a href=\"http://selenium-python.readthedocs.io/\">Selenium Python Bindings</a>.\n",
    "\n",
    "## Get HTML page content\n",
    "In this section are examples how to get HTTP response with two different libraries:\n",
    "* <a href=\"https://docs.python.org/2/library/urllib2.html\">urllib2</a> (standard library in Python)\n",
    "* <a href=\"http://docs.python-requests.org/en/master/\">Requests</a> (instalable through pip)\n",
    "\n",
    "In other sections is used only the Requests library, as a prefered option.\n",
    "\n",
    "### Urlib2 library\n",
    "Example how to get static content of web page with Urlib2 follows."
   ]
  },
  {
   "cell_type": "code",
   "execution_count": 1,
   "metadata": {
    "collapsed": false
   },
   "outputs": [
    {
     "name": "stdout",
     "output_type": "stream",
     "text": [
      "Status code: 200\n"
     ]
    }
   ],
   "source": [
    "import urllib2\n",
    "\n",
    "r = urllib2.urlopen('http://www.python.org/')\n",
    "data = r.read()\n",
    "\n",
    "print \"Status code:\", r.getcode()"
   ]
  },
  {
   "cell_type": "markdown",
   "metadata": {},
   "source": [
    "### Requests\n",
    "Example how to get static content of web page with Requests follows."
   ]
  },
  {
   "cell_type": "code",
   "execution_count": 2,
   "metadata": {
    "collapsed": false
   },
   "outputs": [
    {
     "name": "stdout",
     "output_type": "stream",
     "text": [
      "Status code: 200\n"
     ]
    }
   ],
   "source": [
    "import requests\n",
    "\n",
    "r = requests.get(\"http://www.python.org/\")\n",
    "data = r.text\n",
    "\n",
    "print \"Status code:\", r.status_code"
   ]
  },
  {
   "cell_type": "markdown",
   "metadata": {},
   "source": [
    "## Get JSON data from an API\n",
    "This task is demonstrated on Open Notify - an open source project that provides a simple programming interface for some of NASA’s awesome data.\n",
    "\n",
    "The examples bellow cover how to obtain current possition of ISS. With Requests library it is possible to get the JSON from the API in the same way as HTML data."
   ]
  },
  {
   "cell_type": "code",
   "execution_count": 3,
   "metadata": {
    "collapsed": false
   },
   "outputs": [
    {
     "name": "stdout",
     "output_type": "stream",
     "text": [
      "{u'timestamp': 1490088042, u'message': u'success', u'iss_position': {u'latitude': u'7.5928', u'longitude': u'162.7499'}}\n"
     ]
    }
   ],
   "source": [
    "import requests\n",
    "\n",
    "r = requests.get(\"http://api.open-notify.org/iss-now.json\")\n",
    "obj = r.json()\n",
    "\n",
    "print obj"
   ]
  },
  {
   "cell_type": "markdown",
   "metadata": {},
   "source": [
    "The Requests function `json()` convert the json response to Python dictionary. In next code block is demonstrated how to get data from obtained response.\n",
    "\n",
    "## Persistent session with Requests\n",
    "Session with Requests are handy for cases where you need to use same cookies (session cookies for example) or authentication for multiple requests."
   ]
  },
  {
   "cell_type": "code",
   "execution_count": 4,
   "metadata": {
    "collapsed": false
   },
   "outputs": [
    {
     "name": "stdout",
     "output_type": "stream",
     "text": [
      "No cookies on start: \n",
      "{}\n",
      "\n",
      "A cookie from google: \n",
      "{'NID': '99=oLzctBtmzBe0TBCg-Z9MG0vmZNYWaIcaqBqNJeqSE4CfXuFF92CmxCZJN8OfVxmpfnzHrkjuYNsXnd6OkkbA-J0wVg7wT4RXaf3Ueu5n6b-8ty0udkXJmv3lNt9rXYpk'}\n",
      "\n",
      "The cookie is perstent:\n",
      "{'NID': '99=oLzctBtmzBe0TBCg-Z9MG0vmZNYWaIcaqBqNJeqSE4CfXuFF92CmxCZJN8OfVxmpfnzHrkjuYNsXnd6OkkbA-J0wVg7wT4RXaf3Ueu5n6b-8ty0udkXJmv3lNt9rXYpk'}\n"
     ]
    }
   ],
   "source": [
    "s = requests.Session()\n",
    "print \"No cookies on start: \"\n",
    "print dict(s.cookies)\n",
    "r = s.get('http://google.cz/')\n",
    "print \"\\nA cookie from google: \"\n",
    "print dict(s.cookies)\n",
    "r = s.get('http://google.cz/q=cat')\n",
    "print \"\\nThe cookie is perstent:\"\n",
    "print dict(s.cookies)"
   ]
  },
  {
   "cell_type": "markdown",
   "metadata": {},
   "source": [
    "Compare the output of the code above, with the example bellow."
   ]
  },
  {
   "cell_type": "code",
   "execution_count": 5,
   "metadata": {
    "collapsed": false
   },
   "outputs": [
    {
     "name": "stdout",
     "output_type": "stream",
     "text": [
      "\n",
      "A cookie from google: \n",
      "{'NID': '99=IZGGamzxfuKecFo4gMf7sjYfPuatM5VZJNA_Xr3MraxxYmAlaxmHtawz7E4g95YGlXphDYpZeuRcpld976wFHGX0RlU8p_D9X4PC2gjkmzGUyfo7YdacPiZSkHePpnQp'}\n",
      "\n",
      "No cookie now:\n",
      "{}\n"
     ]
    }
   ],
   "source": [
    "r = requests.get('http://google.cz/')\n",
    "print \"\\nA cookie from google: \"\n",
    "print dict(r.cookies)\n",
    "r = requests.get('http://google.cz/q=cat')\n",
    "print \"\\nNo cookie now:\"\n",
    "print dict(r.cookies)"
   ]
  },
  {
   "cell_type": "markdown",
   "metadata": {},
   "source": [
    "## Custom headers\n",
    "Headers of the response are easy to check, example follows."
   ]
  },
  {
   "cell_type": "code",
   "execution_count": 6,
   "metadata": {
    "collapsed": false
   },
   "outputs": [
    {
     "name": "stdout",
     "output_type": "stream",
     "text": [
      "{'Content-Length': '47428', 'Via': '1.1 varnish', 'X-Cache': 'HIT', 'Accept-Ranges': 'bytes', 'X-Timer': 'S1490088043.198787,VS0,VE0', 'Vary': 'Cookie', 'X-Served-By': 'cache-ams4422-AMS', 'Server': 'nginx', 'Connection': 'keep-alive', 'Age': '1555', 'X-Cache-Hits': '2', 'Public-Key-Pins': 'max-age=600; includeSubDomains; pin-sha256=\"WoiWRyIOVNa9ihaBciRSC7XHjliYS9VwUGOIud4PB18=\"; pin-sha256=\"5C8kvU039KouVrl52D0eZSGf4Onjo4Khs8tmyTlV3nU=\"; pin-sha256=\"5C8kvU039KouVrl52D0eZSGf4Onjo4Khs8tmyTlV3nU=\"; pin-sha256=\"lCppFqbkrlJ3EcVFAkeip0+44VaoJUymbnOaEUk7tEU=\"; pin-sha256=\"TUDnr0MEoJ3of7+YliBMBVFB4/gJsv5zO7IxD9+YoWI=\"; pin-sha256=\"x4QzPSC810K5/cMjb05Qm4k3Bw5zBn4lTdO/nEW/Td4=\";', 'Strict-Transport-Security': 'max-age=63072000; includeSubDomains', 'Date': 'Tue, 21 Mar 2017 09:20:43 GMT', 'X-Frame-Options': 'SAMEORIGIN', 'Content-Type': 'text/html; charset=utf-8', 'X-Clacks-Overhead': 'GNU Terry Pratchett'}\n"
     ]
    }
   ],
   "source": [
    "r = requests.get(\"http://www.python.org/\")\n",
    "print r.headers"
   ]
  },
  {
   "cell_type": "markdown",
   "metadata": {},
   "source": [
    "The request headers can be modified in simple way as follows."
   ]
  },
  {
   "cell_type": "code",
   "execution_count": 7,
   "metadata": {
    "collapsed": false
   },
   "outputs": [
    {
     "name": "stdout",
     "output_type": "stream",
     "text": [
      "200\n"
     ]
    }
   ],
   "source": [
    "headers = {\n",
    "    \"Accept\": \"text/plain\",\n",
    "}\n",
    "\n",
    "r = requests.get(\"http://www.python.org/\", headers=headers)\n",
    "print r.status_code"
   ]
  },
  {
   "cell_type": "markdown",
   "metadata": {},
   "source": [
    "More information about HTTP headers can be found at <a href=\"https://en.wikipedia.org/wiki/List_of_HTTP_header_fields\">List of HTTP header fields wikipedia page</a>."
   ]
  },
  {
   "cell_type": "code",
   "execution_count": null,
   "metadata": {
    "collapsed": true
   },
   "outputs": [],
   "source": []
  }
 ],
 "metadata": {
  "kernelspec": {
   "display_name": "Python 2",
   "language": "python",
   "name": "python2"
  },
  "language_info": {
   "codemirror_mode": {
    "name": "ipython",
    "version": 2
   },
   "file_extension": ".py",
   "mimetype": "text/x-python",
   "name": "python",
   "nbconvert_exporter": "python",
   "pygments_lexer": "ipython2",
   "version": "2.7.6"
  }
 },
 "nbformat": 4,
 "nbformat_minor": 1
}
